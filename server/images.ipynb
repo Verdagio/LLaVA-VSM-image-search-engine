{
 "cells": [
  {
   "cell_type": "code",
   "execution_count": 5,
   "metadata": {},
   "outputs": [
    {
     "name": "stdout",
     "output_type": "stream",
     "text": [
      " The image depicts a serene forest scene with tall evergreen trees reaching towards the sky. Sunlight is filtering through the leaves, creating a beautiful play of light and shadows on the ground. The forest appears to be dense and lush, with no signs of human activity or infrastructure visible in the photo. The overall atmosphere of the image is peaceful and tranquil, suggesting a natural wilderness setting. \n"
     ]
    }
   ],
   "source": [
    "import pandas as pd\n",
    "import os\n",
    "\n",
    "data = pd.read_csv(os.getcwd() + './app/data/data.csv')\n",
    "\n",
    "# data.head(1)['description']\n",
    "print(data.iloc[0]['description'])"
   ]
  }
 ],
 "metadata": {
  "kernelspec": {
   "display_name": "base",
   "language": "python",
   "name": "python3"
  },
  "language_info": {
   "codemirror_mode": {
    "name": "ipython",
    "version": 3
   },
   "file_extension": ".py",
   "mimetype": "text/x-python",
   "name": "python",
   "nbconvert_exporter": "python",
   "pygments_lexer": "ipython3",
   "version": "3.9.12"
  }
 },
 "nbformat": 4,
 "nbformat_minor": 2
}
